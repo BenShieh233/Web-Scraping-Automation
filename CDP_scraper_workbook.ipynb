{
 "cells": [
  {
   "cell_type": "code",
   "execution_count": 9,
   "metadata": {},
   "outputs": [],
   "source": [
    "from selenium.webdriver.common.keys import Keys\n",
    "from selenium import webdriver\n",
    "from selenium.webdriver.support.ui import WebDriverWait\n",
    "from bs4 import BeautifulSoup\n",
    "import pandas as pd\n",
    "import lxml\n",
    "import getpass\n",
    "from IPython.display import display, Image\n",
    "from selenium.webdriver.support import expected_conditions as EC\n",
    "from selenium.webdriver.common.by import By\n",
    "from selenium.common.exceptions import NoSuchElementException\n",
    "import time"
   ]
  },
  {
   "cell_type": "code",
   "execution_count": 2,
   "metadata": {},
   "outputs": [],
   "source": [
    "options = webdriver.ChromeOptions()\n",
    "options.add_argument('--no-sandbox')\n",
    "options.add_argument('--headless')\n",
    "options.add_argument('--disable-gpu')\n",
    "options.add_argument('--disable-dve-shm-uage')"
   ]
  },
  {
   "cell_type": "code",
   "execution_count": 3,
   "metadata": {},
   "outputs": [],
   "source": [
    "username = 'bxie43@wisc.edu'\n",
    "password = 'Ben803803`'"
   ]
  },
  {
   "cell_type": "code",
   "execution_count": 4,
   "metadata": {},
   "outputs": [],
   "source": [
    "master_idx = pd.read_csv(\"Master_sheet - Sheet1.csv\")\n",
    "company_list = master_idx['company_id_SPCIQ']"
   ]
  },
  {
   "cell_type": "code",
   "execution_count": 14,
   "metadata": {},
   "outputs": [],
   "source": [
    "login_url = 'https://www.capitaliq.com/CIQDotNet/login-okta.aspx'\n"
   ]
  },
  {
   "cell_type": "code",
   "execution_count": 10,
   "metadata": {},
   "outputs": [],
   "source": [
    "def page_login(username, password, url):\n",
    "    bot = webdriver.Chrome(options=options)\n",
    "    wait = WebDriverWait(bot, 20)\n",
    "    bot.get(url)\n",
    "    wait.until(EC.visibility_of_element_located((By.CSS_SELECTOR, \"#onetrust-accept-btn-handler\"))).click()\n",
    "\n",
    "    time.sleep(2)\n",
    "\n",
    "    bot.find_element(By.ID, 'input28').send_keys(username)\n",
    "    bot.find_element(By.ID, 'input28').send_keys(Keys.RETURN)\n",
    "\n",
    "    time.sleep(2)\n",
    "\n",
    "    password_field = bot.find_element(By.ID, 'input60')\n",
    "    password_field.send_keys(password)\n",
    "    password_field.send_keys(Keys.RETURN)\n",
    "\n",
    "    return bot   "
   ]
  },
  {
   "cell_type": "code",
   "execution_count": 223,
   "metadata": {},
   "outputs": [],
   "source": [
    "def get_company_data(bot, company_id, url, tag, idx):\n",
    "    \n",
    "    bot.get(url.format(company_id))\n",
    "\n",
    "    df = None \n",
    "    \n",
    "    try:\n",
    "        table = bot.find_element(By.ID, tag)\n",
    "\n",
    "        data = []\n",
    "        for row in table.find_elements(By.TAG_NAME, \"tr\"):\n",
    "            row_data = [cell.text for cell in row.find_elements(By.TAG_NAME, \"td\")]\n",
    "            if row_data:\n",
    "                data.append(row_data)\n",
    "        headers = data[0]\n",
    "        non_empty_headers = [header.strip() for header in headers if header]\n",
    "        cleaned_rows = [[cell for cell in row if cell] for row in data[1:]]\n",
    "        cleaned_rows = [row for row in cleaned_rows if any(cell for cell in row if cell)]\n",
    "\n",
    "        if len(cleaned_rows) > 0: # Check if it has multiple rows\n",
    "            try:\n",
    "                df = pd.DataFrame(cleaned_rows[1:], columns=non_empty_headers) \n",
    "            except ValueError:\n",
    "                try:\n",
    "                    df = pd.DataFrame([cleaned_rows[0]], columns=non_empty_headers)  # Ensure this is a list of lists\n",
    "                except Exception:\n",
    "                    pass\n",
    "        else: # Text extraction\n",
    "            df = pd.DataFrame([table.text.replace('\\n\\n', ';')], columns = idx)\n",
    "            \n",
    "    except NoSuchElementException: # Data not disclosured\n",
    "        df = pd.DataFrame([\" \"] * len(idx), index=idx).T\n",
    "    \n",
    "    # Only proceed if df is successfully created\n",
    "    if df is not None:\n",
    "        df.insert(0, 'company_id', str(company_id))\n",
    "        if len(df[:-1]) != 0:\n",
    "            df = df[:-1]\n",
    "\n",
    "    return df"
   ]
  },
  {
   "cell_type": "code",
   "execution_count": 19,
   "metadata": {},
   "outputs": [],
   "source": [
    "def merge_tables(tb1, tb2):\n",
    "    return pd.concat([tb1, tb2], axis = 0)"
   ]
  },
  {
   "cell_type": "code",
   "execution_count": 227,
   "metadata": {},
   "outputs": [],
   "source": [
    "bot = page_login(username, password, login_url)"
   ]
  },
  {
   "cell_type": "markdown",
   "metadata": {},
   "source": [
    "#### 1. Customers"
   ]
  },
  {
   "cell_type": "code",
   "execution_count": null,
   "metadata": {},
   "outputs": [],
   "source": [
    "customers_url = 'https://www.capitaliq.com/CIQDotNet/BusinessRel/Customers.aspx?CompanyId={}'\n",
    "customers_index = ['Customer Name', 'Supplier Name', 'Relationship Type', 'Primary Industry', 'Source']\n",
    "customers_tag = 'myCustomersGrid_gridSection_myDataGrid'"
   ]
  },
  {
   "cell_type": "code",
   "execution_count": 210,
   "metadata": {},
   "outputs": [],
   "source": [
    "customers_table = pd.DataFrame()\n",
    "for company_id in company_list:\n",
    "    customers_table = merge_tables(customers_table, get_company_data(bot, company_id, customers_url, customers_tag, customers_index))"
   ]
  },
  {
   "cell_type": "markdown",
   "metadata": {},
   "source": [
    "#### 2. Competitors"
   ]
  },
  {
   "cell_type": "code",
   "execution_count": 24,
   "metadata": {},
   "outputs": [],
   "source": [
    "competitors_url = 'https://www.capitaliq.com/CIQDotNet/BusinessRel/Competitors.aspx?CompanyId={}'\n",
    "competitors_index = [\"Competitor's Name\", 'Company', 'LTM Revenue ($mm)', 'LTM Date', 'Source']\n",
    "competitors_tag = 'myCompetitorsGrid_gridSection_myDataGrid'"
   ]
  },
  {
   "cell_type": "code",
   "execution_count": 79,
   "metadata": {},
   "outputs": [],
   "source": [
    "competitors_table = pd.DataFrame()\n",
    "for company_id in company_list:\n",
    "    competitors_table = merge_tables(competitors_table, get_company_data(bot, company_id, competitors_url, competitors_tag, competitors_index))"
   ]
  },
  {
   "cell_type": "markdown",
   "metadata": {},
   "source": [
    "#### 3. Alliances"
   ]
  },
  {
   "cell_type": "code",
   "execution_count": 82,
   "metadata": {},
   "outputs": [],
   "source": [
    "alliances_url = 'https://www.capitaliq.com/CIQDotNet/BusinessRel/StrategicAlliances.aspx?CompanyId={}'\n",
    "alliances_index = [\"Strategic Alliance Name\", 'Company Name', 'Primary Industry', 'Source']\n",
    "alliances_tag = 'myStrategicAlliancesGrid_gridSection_myDataGrid'"
   ]
  },
  {
   "cell_type": "code",
   "execution_count": 83,
   "metadata": {},
   "outputs": [],
   "source": [
    "alliances_table = pd.DataFrame()\n",
    "for company_id in company_list:\n",
    "    alliances_table = merge_tables(alliances_table, get_company_data(bot, company_id, alliances_url, alliances_tag, alliances_index))"
   ]
  },
  {
   "cell_type": "code",
   "execution_count": 84,
   "metadata": {},
   "outputs": [
    {
     "data": {
      "text/html": [
       "<div>\n",
       "<style scoped>\n",
       "    .dataframe tbody tr th:only-of-type {\n",
       "        vertical-align: middle;\n",
       "    }\n",
       "\n",
       "    .dataframe tbody tr th {\n",
       "        vertical-align: top;\n",
       "    }\n",
       "\n",
       "    .dataframe thead th {\n",
       "        text-align: right;\n",
       "    }\n",
       "</style>\n",
       "<table border=\"1\" class=\"dataframe\">\n",
       "  <thead>\n",
       "    <tr style=\"text-align: right;\">\n",
       "      <th></th>\n",
       "      <th>company_id</th>\n",
       "      <th>Strategic Alliance Name</th>\n",
       "      <th>Company Name</th>\n",
       "      <th>Primary Industry</th>\n",
       "      <th>Source</th>\n",
       "    </tr>\n",
       "  </thead>\n",
       "  <tbody>\n",
       "    <tr>\n",
       "      <th>0</th>\n",
       "      <td>251704</td>\n",
       "      <td>AGRANA Stärke GmbH</td>\n",
       "      <td>Archer-Daniels-Midland Company (NYSE:ADM)</td>\n",
       "      <td>Packaged Foods and Meats</td>\n",
       "      <td>AGRANA Beteiligungs-Aktiengesellschaft (WBAG:A...</td>\n",
       "    </tr>\n",
       "    <tr>\n",
       "      <th>1</th>\n",
       "      <td>251704</td>\n",
       "      <td>Asia Sustainable Foods Platform</td>\n",
       "      <td>Archer-Daniels-Midland Company (NYSE:ADM)</td>\n",
       "      <td>Archer-Daniels-Midland Company (NYSE:ADM) 2023...</td>\n",
       "      <td>None</td>\n",
       "    </tr>\n",
       "    <tr>\n",
       "      <th>2</th>\n",
       "      <td>251704</td>\n",
       "      <td>Benson Hill, Inc. (NYSE:BHIL)</td>\n",
       "      <td>Archer-Daniels-Midland Company (NYSE:ADM)</td>\n",
       "      <td>Agricultural Products and Services</td>\n",
       "      <td>Archer-Daniels-Midland Company (NYSE:ADM) 2023...</td>\n",
       "    </tr>\n",
       "    <tr>\n",
       "      <th>3</th>\n",
       "      <td>251704</td>\n",
       "      <td>Cargill, Incorporated</td>\n",
       "      <td>Archer-Daniels-Midland Company (NYSE:ADM)</td>\n",
       "      <td>Agricultural Products and Services</td>\n",
       "      <td>Archer-Daniels-Midland Company (NYSE:ADM) 2023...</td>\n",
       "    </tr>\n",
       "    <tr>\n",
       "      <th>4</th>\n",
       "      <td>251704</td>\n",
       "      <td>Devo Energy S.A. (WSE:DEV)</td>\n",
       "      <td>WILD Flavors, Inc.</td>\n",
       "      <td>Asset Management and Custody Banks</td>\n",
       "      <td>Devo Energy S.A. (WSE:DEV) - Form</td>\n",
       "    </tr>\n",
       "    <tr>\n",
       "      <th>...</th>\n",
       "      <td>...</td>\n",
       "      <td>...</td>\n",
       "      <td>...</td>\n",
       "      <td>...</td>\n",
       "      <td>...</td>\n",
       "    </tr>\n",
       "    <tr>\n",
       "      <th>1</th>\n",
       "      <td>190636</td>\n",
       "      <td>Independent Purchasing Cooperative, Inc.</td>\n",
       "      <td>Tyson Foods, Inc. (NYSE:TSN)</td>\n",
       "      <td>Diversified Support Services</td>\n",
       "      <td>Key Development Strategic Alliances Nov-14-2018</td>\n",
       "    </tr>\n",
       "    <tr>\n",
       "      <th>2</th>\n",
       "      <td>190636</td>\n",
       "      <td>Malayan Flour Mills Berhad (KLSE:MFLOUR)</td>\n",
       "      <td>Tyson Foods, Inc. (NYSE:TSN)</td>\n",
       "      <td>Packaged Foods and Meats</td>\n",
       "      <td>Key Development Client Announcements Feb-10-2021</td>\n",
       "    </tr>\n",
       "    <tr>\n",
       "      <th>3</th>\n",
       "      <td>190636</td>\n",
       "      <td>Tanmiah Food Company (SASE:2281)</td>\n",
       "      <td>Tyson Foods, Inc. (NYSE:TSN)</td>\n",
       "      <td>Packaged Foods and Meats</td>\n",
       "      <td>Key Development Strategic Alliances Jul-06-2022</td>\n",
       "    </tr>\n",
       "    <tr>\n",
       "      <th>0</th>\n",
       "      <td>920226</td>\n",
       "      <td>Morinaga Milk Industry Co., Ltd. (TSE:2264)</td>\n",
       "      <td>Thomas J Lipton Co.</td>\n",
       "      <td>Packaged Foods and Meats</td>\n",
       "      <td>Morinaga Milk Industry Co., Ltd. (TSE:2264) 20...</td>\n",
       "    </tr>\n",
       "    <tr>\n",
       "      <th>0</th>\n",
       "      <td>303591</td>\n",
       "      <td>JDE Peet's N.V. (ENXTAM:JDEP)</td>\n",
       "      <td>NaN</td>\n",
       "      <td>Packaged Foods and Meats</td>\n",
       "      <td>Key Development Client Announcements Mar-24-2021</td>\n",
       "    </tr>\n",
       "  </tbody>\n",
       "</table>\n",
       "<p>164 rows × 5 columns</p>\n",
       "</div>"
      ],
      "text/plain": [
       "   company_id                      Strategic Alliance Name  \\\n",
       "0      251704                           AGRANA Stärke GmbH   \n",
       "1      251704              Asia Sustainable Foods Platform   \n",
       "2      251704                Benson Hill, Inc. (NYSE:BHIL)   \n",
       "3      251704                        Cargill, Incorporated   \n",
       "4      251704                   Devo Energy S.A. (WSE:DEV)   \n",
       "..        ...                                          ...   \n",
       "1      190636     Independent Purchasing Cooperative, Inc.   \n",
       "2      190636     Malayan Flour Mills Berhad (KLSE:MFLOUR)   \n",
       "3      190636             Tanmiah Food Company (SASE:2281)   \n",
       "0      920226  Morinaga Milk Industry Co., Ltd. (TSE:2264)   \n",
       "0      303591                JDE Peet's N.V. (ENXTAM:JDEP)   \n",
       "\n",
       "                                 Company Name  \\\n",
       "0   Archer-Daniels-Midland Company (NYSE:ADM)   \n",
       "1   Archer-Daniels-Midland Company (NYSE:ADM)   \n",
       "2   Archer-Daniels-Midland Company (NYSE:ADM)   \n",
       "3   Archer-Daniels-Midland Company (NYSE:ADM)   \n",
       "4                          WILD Flavors, Inc.   \n",
       "..                                        ...   \n",
       "1                Tyson Foods, Inc. (NYSE:TSN)   \n",
       "2                Tyson Foods, Inc. (NYSE:TSN)   \n",
       "3                Tyson Foods, Inc. (NYSE:TSN)   \n",
       "0                         Thomas J Lipton Co.   \n",
       "0                                         NaN   \n",
       "\n",
       "                                     Primary Industry  \\\n",
       "0                            Packaged Foods and Meats   \n",
       "1   Archer-Daniels-Midland Company (NYSE:ADM) 2023...   \n",
       "2                  Agricultural Products and Services   \n",
       "3                  Agricultural Products and Services   \n",
       "4                  Asset Management and Custody Banks   \n",
       "..                                                ...   \n",
       "1                        Diversified Support Services   \n",
       "2                            Packaged Foods and Meats   \n",
       "3                            Packaged Foods and Meats   \n",
       "0                            Packaged Foods and Meats   \n",
       "0                            Packaged Foods and Meats   \n",
       "\n",
       "                                               Source  \n",
       "0   AGRANA Beteiligungs-Aktiengesellschaft (WBAG:A...  \n",
       "1                                                None  \n",
       "2   Archer-Daniels-Midland Company (NYSE:ADM) 2023...  \n",
       "3   Archer-Daniels-Midland Company (NYSE:ADM) 2023...  \n",
       "4                   Devo Energy S.A. (WSE:DEV) - Form  \n",
       "..                                                ...  \n",
       "1     Key Development Strategic Alliances Nov-14-2018  \n",
       "2    Key Development Client Announcements Feb-10-2021  \n",
       "3     Key Development Strategic Alliances Jul-06-2022  \n",
       "0   Morinaga Milk Industry Co., Ltd. (TSE:2264) 20...  \n",
       "0    Key Development Client Announcements Mar-24-2021  \n",
       "\n",
       "[164 rows x 5 columns]"
      ]
     },
     "execution_count": 84,
     "metadata": {},
     "output_type": "execute_result"
    }
   ],
   "source": [
    "alliances_table"
   ]
  },
  {
   "cell_type": "markdown",
   "metadata": {},
   "source": [
    "#### 4. Sourcing of Raw Materials"
   ]
  },
  {
   "cell_type": "code",
   "execution_count": 85,
   "metadata": {},
   "outputs": [],
   "source": [
    "suppliers_url = 'https://www.capitaliq.com/CIQDotNet/BusinessRel/Suppliers.aspx?CompanyId={}'\n",
    "suppliers_index = [\"Supplier Name\", 'Customer Name', 'Relationship Type', 'Primary Industry', 'Source']\n",
    "suppliers_tag = 'mySuppliersGrid_gridSection_myDataGrid'"
   ]
  },
  {
   "cell_type": "code",
   "execution_count": 86,
   "metadata": {},
   "outputs": [],
   "source": [
    "suppliers_table = pd.DataFrame()\n",
    "for company_id in company_list:\n",
    "    suppliers_table = merge_tables(suppliers_table, get_company_data(bot, company_id, suppliers_url, suppliers_tag, suppliers_index))"
   ]
  },
  {
   "cell_type": "markdown",
   "metadata": {},
   "source": [
    "#### 5. Acquisitions"
   ]
  },
  {
   "cell_type": "code",
   "execution_count": 91,
   "metadata": {},
   "outputs": [],
   "source": [
    "acquisitions_url = 'https://www.capitaliq.com/ciqdotnet/Transactions/TransactionSummary.aspx?CompanyId={}&transactionViewType=1'\n",
    "acquisitions_index = [\"Announced Date\", 'Closed Date', 'Transaction Type', 'Role', 'Target', 'Buyer/Investors', 'Sellers',\n",
    "                                                            'Rounds', 'Round Type', 'Pre-Money Valuation ($mm)', 'Post-Money Valuation ($mm)', 'Size ($mm)', \n",
    "                                                            'Aggregate Amount Raised ($mm)†']\n",
    "acquisitions_tag = 'MATransactionGrid'"
   ]
  },
  {
   "cell_type": "code",
   "execution_count": 98,
   "metadata": {},
   "outputs": [],
   "source": [
    "acquisitions_table = pd.DataFrame()\n",
    "for company_id in company_list:\n",
    "    acquisitions_table = merge_tables(acquisitions_table, get_company_data(bot, company_id, acquisitions_url, acquisitions_tag, acquisitions_index))"
   ]
  },
  {
   "cell_type": "code",
   "execution_count": null,
   "metadata": {},
   "outputs": [],
   "source": [
    "acquisitions_table.to_csv('acquisitions.csv', index = False)"
   ]
  },
  {
   "cell_type": "markdown",
   "metadata": {},
   "source": [
    "#### 6. Key Brands"
   ]
  },
  {
   "cell_type": "code",
   "execution_count": 157,
   "metadata": {},
   "outputs": [],
   "source": [
    "brands_url = 'https://www.capitaliq.com/CIQDotNet/Company/LongBusinessDescription.aspx?CompanyId={}'\n",
    "brands_index = ['Business Description and Products']\n",
    "brands_tag = 'Displaysection1'"
   ]
  },
  {
   "cell_type": "code",
   "execution_count": 224,
   "metadata": {},
   "outputs": [],
   "source": [
    "brands_table = pd.DataFrame()\n",
    "for company_id in company_list:\n",
    "    brands_table = merge_tables(brands_table, get_company_data(bot, company_id, brands_url, brands_tag, brands_index))"
   ]
  },
  {
   "cell_type": "code",
   "execution_count": 226,
   "metadata": {},
   "outputs": [],
   "source": [
    "brands_table.to_csv('brands.csv', index=False)"
   ]
  }
 ],
 "metadata": {
  "kernelspec": {
   "display_name": "base",
   "language": "python",
   "name": "python3"
  },
  "language_info": {
   "codemirror_mode": {
    "name": "ipython",
    "version": 3
   },
   "file_extension": ".py",
   "mimetype": "text/x-python",
   "name": "python",
   "nbconvert_exporter": "python",
   "pygments_lexer": "ipython3",
   "version": "3.9.13"
  }
 },
 "nbformat": 4,
 "nbformat_minor": 2
}
