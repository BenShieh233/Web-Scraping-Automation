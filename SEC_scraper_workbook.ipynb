{
 "cells": [
  {
   "cell_type": "code",
   "execution_count": 1,
   "metadata": {},
   "outputs": [],
   "source": [
    "from docscraping import DocScraper\n",
    "import requests\n",
    "import re\n",
    "import html\n",
    "from cikscraping import CIKScraper\n",
    "from webscraping import SECScraper\n",
    "from sec_api import ExtractorApi\n",
    "import pandas as pd"
   ]
  },
  {
   "cell_type": "code",
   "execution_count": 34,
   "metadata": {},
   "outputs": [],
   "source": [
    "headers = {\"User-Agent\": \"bxie43@wisc.edu\"}\n",
    "FILE = '10-K'\n",
    "Year = '2023'\n",
    "api_key = 'eea8f0562b43a7376c4374da9356914f6abf810c296f520d183c6b2de2708be7'"
   ]
  },
  {
   "cell_type": "code",
   "execution_count": 5,
   "metadata": {},
   "outputs": [],
   "source": [
    "master_idx = pd.read_csv(\"Master_sheet - Sheet1.csv\")\n",
    "company_ticker = master_idx['company_ticker']"
   ]
  },
  {
   "cell_type": "code",
   "execution_count": 38,
   "metadata": {},
   "outputs": [],
   "source": [
    "regulatory_compliance = pd.DataFrame(columns=['ticker', 'year', 'file', 'regulatory_compliance'])\n",
    "product_portfolio = pd.DataFrame(columns=['ticker', 'year', 'file', 'product_portfolio'])\n",
    "acquisition_info = pd.DataFrame(columns=['ticker', 'year', 'file', 'acquisition_info'])\n",
    "\n",
    "for ticker in company_ticker:\n",
    "    try:\n",
    "        company = CIKScraper(ticker, headers)\n",
    "        company.parsing_tickers()\n",
    "        scraper = SECScraper(company.cik, Year, FILE, headers)\n",
    "        url = scraper.scrape_sec_data()[0]\n",
    "\n",
    "        try:\n",
    "            parser = DocScraper(url, FILE, headers, api_key, Year, ticker)\n",
    "            parser.parsing_file()\n",
    "\n",
    "\n",
    "            # regulatory_compliance\n",
    "            data_rc = {\n",
    "            'ticker': ticker,\n",
    "            'year': Year,\n",
    "            'file': FILE,\n",
    "            'regulatory_compliance': [parser.regulatorycompliance]\n",
    "            }\n",
    "\n",
    "            df_rc = pd.DataFrame(data_rc)\n",
    "            regulatory_compliance = pd.concat([regulatory_compliance, df_rc], axis = 0)\n",
    "\n",
    "\n",
    "            # product_portfolio\n",
    "            data_pp = {\n",
    "            'ticker': ticker,\n",
    "            'year': Year,\n",
    "            'file': FILE,\n",
    "            'product_portfolio': [parser.productportfolio]\n",
    "            }\n",
    "            df_pp = pd.DataFrame(data_pp)\n",
    "            product_portfolio = pd.concat([product_portfolio, df_pp], axis = 0)\n",
    "\n",
    "            # acquisitions information\n",
    "            data_ai = {\n",
    "            'ticker': ticker,\n",
    "            'year': Year,\n",
    "            'file': FILE,\n",
    "            'acquisition_info': [parser.acquisitions]\n",
    "            }\n",
    "            df_ai = pd.DataFrame(data_ai)\n",
    "            acquisition_info = pd.concat([acquisition_info, df_ai], axis = 0)\n",
    "\n",
    "        except Exception as e:\n",
    "            print(e)\n",
    "\n",
    "    except Exception:\n",
    "        pass\n"
   ]
  },
  {
   "cell_type": "code",
   "execution_count": 56,
   "metadata": {},
   "outputs": [],
   "source": [
    "regulatory_compliance.to_excel('regulatory_compliance.xlsx', index = False)"
   ]
  },
  {
   "cell_type": "code",
   "execution_count": 41,
   "metadata": {},
   "outputs": [],
   "source": [
    "acquisition_info.to_excel('acquisition_info.xlsx', index = False)"
   ]
  },
  {
   "cell_type": "code",
   "execution_count": 48,
   "metadata": {},
   "outputs": [],
   "source": [
    "product_portfolio.to_excel('product_portfolio.xlsx', index=False)"
   ]
  }
 ],
 "metadata": {
  "kernelspec": {
   "display_name": "base",
   "language": "python",
   "name": "python3"
  },
  "language_info": {
   "codemirror_mode": {
    "name": "ipython",
    "version": 3
   },
   "file_extension": ".py",
   "mimetype": "text/x-python",
   "name": "python",
   "nbconvert_exporter": "python",
   "pygments_lexer": "ipython3",
   "version": "3.9.13"
  }
 },
 "nbformat": 4,
 "nbformat_minor": 2
}
